{
 "cells": [
  {
   "cell_type": "markdown",
   "metadata": {},
   "source": [
    "# Maths in shapes.cc"
   ]
  },
  {
   "cell_type": "markdown",
   "metadata": {},
   "source": [
    "## Line\n",
    "\n",
    "Given: $P_1, P_2, Q, w, c, t$\n",
    "\n",
    "$P_1$ and $P_2$ are the two end points, $Q$ is the point we want to get the color for, and $w$ is the width of the line. $c$ is the color of the line, and $t$ is a fully transparent color.\n",
    "\n",
    "\\begin{equation*}\n",
    "    \\vec{v} = \\vec{P_1P_2}\n",
    "\\end{equation*}\n",
    "\n",
    "\\begin{equation*}\n",
    "    \\vec{u} = \\vec{P_1Q}\n",
    "\\end{equation*}\n",
    "\n",
    "\\begin{equation*}\n",
    "    \\vec{u}_{\\vec{v}} = \\frac{\n",
    "            \\vec{v} \\cdot \\vec{u}\n",
    "        }{\n",
    "            \\left|\\vec{v}\\right|\n",
    "        } \\vec{v}\n",
    "\\end{equation*}\n",
    "\n",
    "\\begin{equation*}\n",
    "    d = \\left|\\vec{u} - \\vec{u}_{\\vec{v}}\\right|\n",
    "\\end{equation*}\n",
    "\n",
    "\\begin{equation*}\n",
    "    d = \\left|\\vec{u} - \\frac{\n",
    "            \\vec{v} \\cdot \\vec{u}\n",
    "        }{\n",
    "            \\left|\\vec{v}\\right|\n",
    "        } \\vec{v}\\right|\n",
    "\\end{equation*}\n",
    "\n",
    "We are dealing with only two dimensions in a cartesian coordinate system:\n",
    "\n",
    "\\begin{equation*}\n",
    "    l = \\sqrt{x\\left(\\vec{v}\\right)^2 + y\\left(\\vec{v}\\right)^2}\n",
    "\\end{equation*}\n",
    "\n",
    "\\begin{equation*}\n",
    "    m = \\frac{\n",
    "            x(\\vec{v})x(\\vec{u}) + y(\\vec{v})y(\\vec{u})\n",
    "        }{\n",
    "            l^2\n",
    "        }\n",
    "\\end{equation*}\n",
    "\n",
    "\\begin{equation*}\n",
    "    d = \\left|\n",
    "            \\begin{pmatrix}\n",
    "                x\\left(\\vec{u}\\right) - m x\\left(\\vec{v}\\right) \\\\\n",
    "                y\\left(\\vec{u}\\right) - m y\\left(\\vec{v}\\right)\n",
    "            \\end{pmatrix}\n",
    "        \\right|\n",
    "\\end{equation*}\n",
    "\n",
    "\\begin{equation*}\n",
    "    d = \\sqrt{\n",
    "            \\left(x\\left(\\vec{u}\\right) - m x\\left(\\vec{v}\\right)\\right)^2 +\n",
    "            \\left(y\\left(\\vec{u}\\right) - m y\\left(\\vec{v}\\right)\\right)^2\n",
    "        }\n",
    "\\end{equation*}\n",
    "\n",
    "$\\rightarrow$ The color of $Q$ is the following:\n",
    "\n",
    "\\begin{equation*}\n",
    "    \\begin{cases}\n",
    "        c & \\text{if } d < w \\land 0 <= m <= 1 \\\\\n",
    "        t & \\text{else}\n",
    "    \\end{cases}\n",
    "\\end{equation*}\n",
    "\n"
   ]
  },
  {
   "cell_type": "markdown",
   "metadata": {},
   "source": [
    "## Polygon"
   ]
  },
  {
   "cell_type": "code",
   "execution_count": 2,
   "metadata": {
    "collapsed": false,
    "slideshow": {
     "slide_type": "-"
    }
   },
   "outputs": [
    {
     "data": {
      "image/svg+xml": [
       "<svg height=\"250\"width=\"500\"><polygon points=\"120,10 300,210 170,250 123,234 160,150\"style=\"fill:none;stroke:black;stroke-width:3\"/><line x1=\"150\"y1=\"200\"x2=\"150\"y2=\"0\"style=\"stroke:green;stroke-width:2\"/><line x1=\"150\"y1=\"200\"x2=\"150\"y2=\"250\"style=\"stroke:blue;stroke-width:2\"/><circle cx=\"150\"cy=\"200\"r=\"4\"style=\"fill:black;stroke-width:0\"/><circle cx=\"150\"cy=\"243\"r=\"4\"style=\"fill:blue;stroke-width:0\"/><circle cx=\"150\"cy=\"173\"r=\"4\"style=\"fill:green;stroke-width:0\"/><circle cx=\"150\"cy=\"115\"r=\"4\"style=\"fill:green;stroke-width:0\"/><circle cx=\"150\"cy=\"43\"r=\"4\"style=\"fill:green;stroke-width:0\"/></svg>"
      ]
     },
     "metadata": {},
     "output_type": "display_data"
    }
   ],
   "source": [
    "display.display_svg('<svg height=\"250\"width=\"500\"><polygon points=\"120,10 300,210 170,250 123,234 160,150\"style=\"fill:none;stroke:black;stroke-width:3\"/><line x1=\"150\"y1=\"200\"x2=\"150\"y2=\"0\"style=\"stroke:green;stroke-width:2\"/><line x1=\"150\"y1=\"200\"x2=\"150\"y2=\"250\"style=\"stroke:blue;stroke-width:2\"/><circle cx=\"150\"cy=\"200\"r=\"4\"style=\"fill:black;stroke-width:0\"/><circle cx=\"150\"cy=\"243\"r=\"4\"style=\"fill:blue;stroke-width:0\"/><circle cx=\"150\"cy=\"173\"r=\"4\"style=\"fill:green;stroke-width:0\"/><circle cx=\"150\"cy=\"115\"r=\"4\"style=\"fill:green;stroke-width:0\"/><circle cx=\"150\"cy=\"43\"r=\"4\"style=\"fill:green;stroke-width:0\"/></svg>', raw=True)"
   ]
  },
  {
   "cell_type": "markdown",
   "metadata": {},
   "source": [
    "The polygon is the polygon in question, and the black point is the point we want some information for.\n",
    "\n",
    "A point is in the polygon if _any ray / all rays_ from that point have an uneven amount of intersections with the outline of the polygon that isn't the same as the point in question.\n",
    "\n",
    "Proof: If we go through the ray from the outside, and we pass a part of the outline of the polygon, we are inside. If we pass one again, we are outside again. Repeat.\n",
    "\n",
    "If the choice is _any ray_, the outline is part of the surface.\n",
    "\n",
    "If it is _all rays_ however, the outline isn't part of the surface.\n",
    "\n",
    "As _all rays_ is actually faster to compute, because two rays with opposing directions alone are sufficiant, I chose it.\n",
    "\n",
    "\\begin{equation*}\n",
    "    l\\left(\\vec{a}, \\vec{b}\\right) = \\left|\\vec{b} - \\vec{a}\\right|\n",
    "\\end{equation*}\n",
    "\n",
    "\\begin{equation*}\n",
    "    m\\left(\\vec{a}, \\vec{b}, \\vec{q}\\right) = \\frac{\\left(\\vec{b} - \\vec{a}\\right) \\cdot \\left(\\vec{q} - \\vec{a}\\right)}{l\\left(\\vec{a}, \\vec{b}\\right)^2}\n",
    "\\end{equation*}\n",
    "\n",
    "\\begin{equation*}\n",
    "    d\\left(\\vec{a}, \\vec{b}, \\vec{q}\\right) = \\left|\n",
    "        \\vec{q} - \\vec{a} - m\\left(\\vec{a}, \\vec{b}, \\vec{q}\\right) \\cdot \\left(\\vec{b} - \\vec{a}\\right)\n",
    "    \\right|\n",
    "\\end{equation*}\n",
    "\n",
    "\\begin{equation*}\n",
    "\\rightarrow\n",
    "\\begin{cases}\n",
    "    s & \\text{if } \\exists \\left(\\vec{a}, \\vec{b}\\right) \\in P:\n",
    "            d\\left(\\vec{a}, \\vec{b}, \\vec{q}\\right) < w \\land\n",
    "            0 \\leq m\\left(\\vec{a}, \\vec{b}, \\vec{q}\\right) \\leq 1 \\\\\n",
    "    f & \\text{else if } \\left(\n",
    "                1 \\equiv \\left|\\left|\n",
    "                    i\\left(P, \\vec{q}, \\begin{pmatrix}0\\\\1\\end{pmatrix}\\right)\n",
    "                \\right|\\right| \\text{ mod } 2\n",
    "            \\right) \\land\n",
    "            \\left(\n",
    "                1 \\equiv \\left|\\left|\n",
    "                    i\\left(P, \\vec{q}, \\begin{pmatrix}0\\\\-1\\end{pmatrix}\\right)\n",
    "                \\right|\\right| \\text{ mod } 2\n",
    "            \\right) \\\\\n",
    "    t & \\text{else}\n",
    "\\end{cases}\n",
    "\\end{equation*}\n",
    "\n",
    "($s$ = stroke color, $w$ = stroke width, $f$ = fill color, $t$ = transparent, $P$ = polygon ($\\subset \\mathbb{R}^2 \\times \\mathbb{R}^2$), $\\vec{q}$ = point we want a color for as a vector, $i\\left(P, \\vec{v}, \\vec{u}\\right)$ = intersections of the polygon $P$ and the ray from $\\vec{v}$ in the direction of $\\vec{u}$)"
   ]
  }
 ],
 "metadata": {
  "kernelspec": {
   "display_name": "Python 3",
   "language": "python",
   "name": "python3"
  },
  "language_info": {
   "codemirror_mode": {
    "name": "ipython",
    "version": 3
   },
   "file_extension": ".py",
   "mimetype": "text/x-python",
   "name": "python",
   "nbconvert_exporter": "python",
   "pygments_lexer": "ipython3",
   "version": "3.5.1"
  }
 },
 "nbformat": 4,
 "nbformat_minor": 1
}
